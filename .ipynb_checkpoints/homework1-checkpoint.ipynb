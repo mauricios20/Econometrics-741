{
 "cells": [
  {
   "cell_type": "code",
   "execution_count": 1,
   "metadata": {
    "scrolled": true
   },
   "outputs": [
    {
     "name": "stdout",
     "output_type": "stream",
     "text": [
      "(463090, 5)\n",
      "<class 'pandas.core.frame.DataFrame'>\n",
      "Int64Index: 463090 entries, 0 to 463089\n",
      "Data columns (total 5 columns):\n",
      "perwt      463090 non-null int16\n",
      "sex        463090 non-null category\n",
      "age        463090 non-null category\n",
      "empstat    463090 non-null category\n",
      "incwage    463090 non-null int32\n",
      "dtypes: category(3), int16(1), int32(1)\n",
      "memory usage: 7.5 MB\n",
      "None\n",
      "   perwt     sex age             empstat  incwage\n",
      "0     20  female  51            employed    30000\n",
      "1     15  female  37  not in labor force    13000\n",
      "2     18  female  34  not in labor force     4800\n",
      "3     38  female  42  not in labor force     6100\n",
      "4     18  female  51            employed    30000\n",
      "5     18  female  36  not in labor force     3000\n",
      "6     30  female  39            employed     6000\n",
      "7     69  female  53  not in labor force    50000\n",
      "8     41  female  31  not in labor force     2000\n",
      "9     58  female  38  not in labor force    29000\n",
      "perwt         int16\n",
      "sex        category\n",
      "age           int32\n",
      "empstat    category\n",
      "incwage       int32\n",
      "dtype: object\n",
      "(138100, 5)\n"
     ]
    }
   ],
   "source": [
    "import pandas as pd\n",
    "import numpy as np\n",
    "from scipy import stats\n",
    "import matplotlib.pyplot as plt\n",
    "\n",
    "# Start by importing the data into python to create a data frame (df) #\n",
    "df = pd.read_stata('C:/Users/mauri/github/Econometrics-741/741_data_1.dta')\n",
    "\n",
    "# Let's do exploratory data analysis before we start working with the df.\n",
    "print(df.shape)  # '(463090, 5) Number of rows, number of columns'.\n",
    "print(df.info())  # 'Complete summary of data types and entries'\n",
    "print(df.head(10))  # 'Visualize the first 5 entries of dt'\n",
    "\n",
    "# Age column data type is in a categorical form thus need to be\n",
    "# transform to interget format for filter to work.\n",
    "df = df.astype({'age': 'int32'})\n",
    "print(df.dtypes)\n",
    "\n",
    "# Filter data to women who are employed and age between 30 to 39\n",
    "df2 = df.loc[(df.empstat == 'employed') & (df.age >= 30) & (df.age <= 39)]\n",
    "\n",
    "print(df2.shape)  # '(14517, 5) Number of rows and columns'"
   ]
  },
  {
   "cell_type": "code",
   "execution_count": 6,
   "metadata": {},
   "outputs": [
    {
     "name": "stdout",
     "output_type": "stream",
     "text": [
      "Average income population set: 48348.33656770456\n"
     ]
    }
   ],
   "source": [
    "# (a) Find the avergae income of these population set\n",
    "muinc = df2['incwage'].mean()  # '$48,348.34 average income'\n",
    "print(f'Average income population set: {muinc}')"
   ]
  },
  {
   "cell_type": "code",
   "execution_count": 8,
   "metadata": {},
   "outputs": [
    {
     "name": "stdout",
     "output_type": "stream",
     "text": [
      "Average Income sample: 47355.63\n",
      "Sample Standard Deviation: 39169.62265764469\n",
      "Standard Error: 1238.65222687495\n",
      "Lower end of the range: 44924.97137927801\n",
      "Upper end of the range: 49786.288620721985\n",
      "T test : -2.134876878776216\n",
      "T test: -6.171522429089172\n"
     ]
    }
   ],
   "source": [
    "# (b) Take a random sample of 1000 women, random state is used to ensure the\n",
    "# code chooses the same random samples everytime it runs.\n",
    "df3 = df2.sample(n=1000, random_state=23)\n",
    "# (i) Sample mean\n",
    "smu = df3.incwage.mean()  # '$47,355.63 average income sample'\n",
    "print(f'Average Income sample: {smu}')\n",
    "\n",
    "# (ii) Sample Standard Deviation\n",
    "sigma = df3.incwage.std()  # '$39,169.62'\n",
    "print(f'Sample Standard Deviation: {sigma}')\n",
    "\n",
    "# (iii) Standard Error\n",
    "SE = sigma/np.sqrt(1000)  # '1238.65'\n",
    "print(f'Standard Error: {SE}')\n",
    "\n",
    "# (iv) Give the 95% confidence interval on your estimate of μ.\n",
    "dgf = 1000-1\n",
    "alpha = (1-.95)/2  # '0.025'\n",
    "\n",
    "t = 1.962  # 'From t distribution table'\n",
    "t = stats.t.ppf(1-0.025, 999)  # 'From stats package which is same as table'\n",
    "\n",
    "CI95 = SE*t  # '+/- 2427.06661315927'\n",
    "# Lower end of the range\n",
    "print(f'Lower end of the range: {(smu-CI95)}')  # '44924.97'\n",
    "\n",
    "# Upper end of the range\n",
    "print(f'Upper end of the range: {(smu+CI95)}')  # '49786.29'\n",
    "\n",
    "# (v) Ho m0 = 50,000 ; H1 m1 =! 50,000\n",
    "ttest = (smu - 50000)/SE  # '2.13 which is greater than t, thus reject null'\n",
    "# alpha between 0.025 & 0.01\n",
    "print(f'T test : {ttest}')\n",
    "# (vi) Ho m = 55,000 ; H1 m =! 50000\n",
    "ttest = (smu - 55000)/SE  # '6.17 thus reject Ho and alpha is very small'\n",
    "print(f'T test: {ttest}')"
   ]
  },
  {
   "cell_type": "code",
   "execution_count": 6,
   "metadata": {},
   "outputs": [
    {
     "data": {
      "image/png": "[encoded data removed]",
      "text/plain": [
       "<Figure size 432x288 with 1 Axes>"
      ]
     },
     "metadata": {
      "needs_background": "light"
     },
     "output_type": "display_data"
    },
    {
     "name": "stdout",
     "output_type": "stream",
     "text": [
      "48360.3\n",
      "1486.05\n"
     ]
    }
   ],
   "source": [
    "# (c) Now  take  10000  random  samples  of  1000  women.\n",
    "# Record  thesample mean for each sample and save it to a matrix.\n",
    "xbars = []\n",
    "for i in range(0, 10001):\n",
    "    xbar = df2.incwage.sample(n=1000).mean()\n",
    "    xbars.append(xbar)\n",
    "\n",
    "arr = np.asarray(xbars)\n",
    "\n",
    "# (i) Produce  a  graph  of  the  distribution  of  these  10,000  samplemeans\n",
    "plt.plot(arr)\n",
    "plt.title('Random Samples')\n",
    "plt.axhline(y=muinc, color='r', linestyle='-')  # 'population set mean'\n",
    "plt.ylabel('Sample Mean for each sample')\n",
    "plt.xlabel('Number of samples')\n",
    "plt.show()\n",
    "\n",
    "# (ii) Report the average of these 10,000 sample means.\n",
    "ave = arr.mean()  # '$48329.9'\n",
    "print(ave.round(2))\n",
    "# (iii) Report the standard deviation of these 10,000 sample means.\n",
    "sig = arr.std()  # '1470.4'\n",
    "print(sig.round(2))"
   ]
  },
  {
   "cell_type": "code",
   "execution_count": 22,
   "metadata": {},
   "outputs": [
    {
     "name": "stdout",
     "output_type": "stream",
     "text": [
      "Invers of B: [[1. 0.]\n",
      " [0. 1.]]\n",
      "Invers of C: [[ 0.4        -0.2       ]\n",
      " [-0.06666667  0.2       ]]\n",
      "Tranpose of A: [[1 1]\n",
      " [1 2]\n",
      " [5 3]]\n",
      "Tranpose of B: [[1 0]\n",
      " [0 1]]\n",
      "Tranpose of C: [[3 1]\n",
      " [3 6]]\n",
      "AT×C: [[ 4  9]\n",
      " [ 5 15]\n",
      " [18 33]]\n",
      "BxC: [[3 3]\n",
      " [1 6]]\n",
      "B+C: [[4 3]\n",
      " [1 7]]\n",
      "Invers of D: [[ 2.77777778e-01  2.00000000e-01 -5.88888889e-01]\n",
      " [-2.00815534e-18  2.00000000e-01 -2.00000000e-01]\n",
      " [-5.55555556e-02 -2.00000000e-01  4.77777778e-01]]\n",
      "DxE: [[68 82 67]\n",
      " [61 76 40]\n",
      " [46 56 35]]\n"
     ]
    }
   ],
   "source": [
    "# Chapter 4 See the following definitions of matrices A,B,C,D, and E.\n",
    "A = np.array([[1,1,5],[1,2,3]])\n",
    "B = np.array([[1,0],[0,1]])\n",
    "C = np.array([[3,3], [1,6]])\n",
    "D = np.array([[5,2,7],[1,9,5],[1,4,5]])\n",
    "E = np.array([[4,5,6],[3,4,1],[6,7,5]])\n",
    "\n",
    "# 1 Find the inverse of B\n",
    "Binv = np.linalg.inv(B)\n",
    "print(f'Invers of B: {Binv}')\n",
    "\n",
    "# 2 Find the inverse of C\n",
    "Cinv = np.linalg.inv(C)\n",
    "print(f'Invers of C: {Cinv}')\n",
    "\n",
    "# 3 Find A'\n",
    "AT = A.transpose()\n",
    "print(f'Tranpose of A: {AT}')\n",
    "\n",
    "# 4 Find B'\n",
    "BT = B.transpose()\n",
    "print(f'Tranpose of B: {BT}')\n",
    "\n",
    "# 5 Find C'\n",
    "CT = C.transpose()\n",
    "print(f'Tranpose of C: {CT}')\n",
    "\n",
    "# # 6 What is A×C?\n",
    "# AxC = A.dot(C)\n",
    "# print(AxC) \n",
    "# ValueError: shapes (2,3) and (2,2) not aligned: 3 (dim 1) != 2 (dim 0)\n",
    "\n",
    "# 7 What is A'×C?\n",
    "ATxC = AT.dot(C)\n",
    "print(f'AT×C: {ATxC}')\n",
    "\n",
    "# 8 What is B×C?\n",
    "BxC = B.dot(C)\n",
    "print( f'BxC: {BxC}')\n",
    "\n",
    "# 9 What is B+C?\n",
    "Sum = B + C\n",
    "print(f'B+C: {Sum}')\n",
    "\n",
    "# 10 What isD−1?\n",
    "Dinv = np.linalg.inv(D)\n",
    "print(f'Invers of D: {Dinv}')\n",
    "\n",
    "# 11 What is D×E?\n",
    "DxE = D.dot(E)\n",
    "print(f'DxE: {DxE}')"
   ]
  },
  {
   "cell_type": "code",
   "execution_count": null,
   "metadata": {},
   "outputs": [],
   "source": []
  }
 ],
 "metadata": {
  "kernelspec": {
   "display_name": "Python 3",
   "language": "python",
   "name": "python3"
  },
  "language_info": {
   "codemirror_mode": {
    "name": "ipython",
    "version": 3
   },
   "file_extension": ".py",
   "mimetype": "text/x-python",
   "name": "python",
   "nbconvert_exporter": "python",
   "pygments_lexer": "ipython3",
   "version": "3.7.0"
  }
 },
 "nbformat": 4,
 "nbformat_minor": 2
}
