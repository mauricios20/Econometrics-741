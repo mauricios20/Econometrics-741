{
 "cells": [
  {
   "cell_type": "code",
   "execution_count": 2,
   "metadata": {},
   "outputs": [
    {
     "name": "stdout",
     "output_type": "stream",
     "text": [
      "(6718, 8)\n",
      "<class 'pandas.core.frame.DataFrame'>\n",
      "Int64Index: 6718 entries, 0 to 6717\n",
      "Data columns (total 8 columns):\n",
      "perwt      6718 non-null int16\n",
      "sex        6718 non-null category\n",
      "age        6718 non-null category\n",
      "race       6718 non-null category\n",
      "hispan     6718 non-null category\n",
      "empstat    6718 non-null category\n",
      "occ1990    6718 non-null category\n",
      "incwage    6718 non-null int32\n",
      "dtypes: category(6), int16(1), int32(1)\n",
      "memory usage: 133.6 KB\n",
      "None\n",
      "   perwt     sex age   race        hispan   empstat     occ1990  incwage\n",
      "0     71  female  30  white  not hispanic  employed  physicians    53000\n",
      "1    146    male  27  white  not hispanic  employed  physicians    50000\n",
      "2    202    male  45  white  not hispanic  employed  physicians   391000\n",
      "3    136  female  50  white  not hispanic  employed  physicians   391000\n",
      "4    132  female  54  white  not hispanic  employed  physicians   391000\n",
      "perwt         int16\n",
      "sex        category\n",
      "age           int32\n",
      "race       category\n",
      "hispan     category\n",
      "empstat    category\n",
      "occ1990    category\n",
      "incwage       int32\n",
      "dtype: object\n"
     ]
    }
   ],
   "source": [
    "import pandas as pd\n",
    "import numpy as np\n",
    "from sklearn.linear_model import LinearRegression\n",
    "import statsmodels.api as sm\n",
    "import matplotlib.pyplot as plt\n",
    "# Start by importing the data into python to create a data frame (df) #\n",
    "df = pd.read_stata('C:/Users/mauri/github/Econometrics-741/HW2.dta')\n",
    "\n",
    "# Let's do exploratory data analysis before we start working with the df.\n",
    "print(df.shape)  # ( 6718, 8) Number of rows, number of columns'\n",
    "print(df.info())  # 'Complete summary of data types and entries'\n",
    "print(df.head(5))  # 'Visualize the first 5 entries of dt'\n",
    "\n",
    "# Age column data type is in a categorical form thus need to be\n",
    "# transform to interget format for filter to work.\n",
    "df = df.astype({'age': 'int32'})\n",
    "print(df.dtypes)"
   ]
  },
  {
   "cell_type": "code",
   "execution_count": 3,
   "metadata": {},
   "outputs": [
    {
     "name": "stdout",
     "output_type": "stream",
     "text": [
      "(1994, 8)\n",
      "[171886.32905437]\n",
      "[[1349.45725237]]\n"
     ]
    }
   ],
   "source": [
    "# Filter data to women who are employed and age between 30 to 39\n",
    "df2 = df.loc[(df.empstat == 'employed') & (df.age >= 35) & (df.sex == 'female')]\n",
    "\n",
    "print(df2.shape)  # '(4700, 8) Number of rows and columns'\n",
    "\n",
    "# Sort Variables\n",
    "x = df2[['age']]\n",
    "y = df2[['incwage']]\n",
    "\n",
    "# Fit x and y into Linear Regression Model\n",
    "model = LinearRegression()\n",
    "model.fit(x, y)\n",
    "\n",
    "print(model.intercept_)\n",
    "print(model.coef_)\n",
    "\n",
    "# y_hat = 171886.32905437 + 1349.45725237age"
   ]
  },
  {
   "cell_type": "code",
   "execution_count": 4,
   "metadata": {},
   "outputs": [
    {
     "name": "stdout",
     "output_type": "stream",
     "text": [
      "[[171886.32905437]\n",
      " [  1349.45725237]]\n",
      "SE(beta_hat[0]): 25328.83283113632\n",
      "SE(beta_hat[1]): 570.3044786642922\n"
     ]
    }
   ],
   "source": [
    "# Reproduce scikit-learn results with linear algebra\n",
    "N = len(x)\n",
    "p = len(x.columns) + 1  # plus one because LinearRegression adds an intercept term\n",
    "\n",
    "\n",
    "X_with_intercept = np.empty(shape=(N, p), dtype=np.float)\n",
    "X_with_intercept[:, 0] = 1\n",
    "X_with_intercept[:, 1:p] = x.values\n",
    "\n",
    "beta_hat = np.linalg.inv(X_with_intercept.T @ X_with_intercept) @ X_with_intercept.T @ y.values\n",
    "print(beta_hat)\n",
    "\n",
    "# y_hat = 171886.32905437 + 1349.45725237age\n",
    "\n",
    "# Compute standard errors of the parameter estimates\n",
    "y_hat = model.predict(x)\n",
    "residuals = y.values - y_hat\n",
    "residual_sum_of_squares = residuals.T @ residuals\n",
    "sigma_squared_hat = residual_sum_of_squares[0, 0] / (N - p)\n",
    "var_beta_hat = np.linalg.inv(X_with_intercept.T @ X_with_intercept) * sigma_squared_hat\n",
    "for p_ in range(p):\n",
    "    standard_error = var_beta_hat[p_, p_] ** 0.5\n",
    "    print(f\"SE(beta_hat[{p_}]): {standard_error}\")\n",
    "\n",
    "# SE(beta_hat[0]): 25328.832831136446\n",
    "# SE(beta_hat[1]): 570.3044786642951"
   ]
  },
  {
   "cell_type": "code",
   "execution_count": 5,
   "metadata": {},
   "outputs": [
    {
     "name": "stdout",
     "output_type": "stream",
     "text": [
      "                            OLS Regression Results                            \n",
      "==============================================================================\n",
      "Dep. Variable:                      y   R-squared:                       0.003\n",
      "Model:                            OLS   Adj. R-squared:                  0.002\n",
      "Method:                 Least Squares   F-statistic:                     5.599\n",
      "Date:                Wed, 07 Oct 2020   Prob (F-statistic):             0.0181\n",
      "Time:                        09:53:26   Log-Likelihood:                -26641.\n",
      "No. Observations:                1994   AIC:                         5.329e+04\n",
      "Df Residuals:                    1992   BIC:                         5.330e+04\n",
      "Df Model:                           1                                         \n",
      "Covariance Type:            nonrobust                                         \n",
      "==============================================================================\n",
      "                 coef    std err          t      P>|t|      [0.025      0.975]\n",
      "------------------------------------------------------------------------------\n",
      "const       1.719e+05   2.53e+04      6.786      0.000    1.22e+05    2.22e+05\n",
      "x1          1349.4573    570.304      2.366      0.018     231.001    2467.913\n",
      "==============================================================================\n",
      "Omnibus:                      178.583   Durbin-Watson:                   1.934\n",
      "Prob(Omnibus):                  0.000   Jarque-Bera (JB):              225.079\n",
      "Skew:                           0.815   Prob(JB):                     1.33e-49\n",
      "Kurtosis:                       2.768   Cond. No.                         327.\n",
      "==============================================================================\n",
      "\n",
      "Warnings:\n",
      "[1] Standard Errors assume that the covariance matrix of the errors is correctly specified.\n"
     ]
    }
   ],
   "source": [
    "# Confirm with statsmodels\n",
    "ols = sm.OLS(y.values, X_with_intercept)\n",
    "ols_result = ols.fit()\n",
    "print(ols_result.summary())"
   ]
  },
  {
   "cell_type": "code",
   "execution_count": 6,
   "metadata": {},
   "outputs": [
    {
     "name": "stdout",
     "output_type": "stream",
     "text": [
      "                    Robust linear Model Regression Results                    \n",
      "==============================================================================\n",
      "Dep. Variable:                      y   No. Observations:                 1994\n",
      "Model:                            RLM   Df Residuals:                     1992\n",
      "Method:                          IRLS   Df Model:                            1\n",
      "Norm:                          HuberT                                         \n",
      "Scale Est.:                       mad                                         \n",
      "Cov Type:                          H1                                         \n",
      "Date:                Wed, 07 Oct 2020                                         \n",
      "Time:                        09:53:33                                         \n",
      "No. Iterations:                     3                                         \n",
      "==============================================================================\n",
      "                 coef    std err          z      P>|z|      [0.025      0.975]\n",
      "------------------------------------------------------------------------------\n",
      "const       1.662e+05    2.6e+04      6.390      0.000    1.15e+05    2.17e+05\n",
      "x1          1189.2668    585.696      2.031      0.042      41.324    2337.209\n",
      "==============================================================================\n",
      "\n",
      "If the model instance has been used for another fit with different fit\n",
      "parameters, then the fit options might not be the correct ones anymore .\n"
     ]
    }
   ],
   "source": [
    "# Chapter 6 Questions\n",
    "# 1. Continuing with the regressions from above, report results using White’s\n",
    "# Heteroskedasticity Robust Standard Errors.\n",
    "ols = sm.RLM(y.values, X_with_intercept)\n",
    "ols_robust = ols.fit()\n",
    "print(ols_robust.summary())"
   ]
  },
  {
   "cell_type": "code",
   "execution_count": 9,
   "metadata": {},
   "outputs": [
    {
     "name": "stderr",
     "output_type": "stream",
     "text": [
      "C:\\Users\\mauri\\Anaconda3\\lib\\site-packages\\ipykernel_launcher.py:6: SettingWithCopyWarning: \n",
      "A value is trying to be set on a copy of a slice from a DataFrame.\n",
      "Try using .loc[row_indexer,col_indexer] = value instead\n",
      "\n",
      "See the caveats in the documentation: http://pandas.pydata.org/pandas-docs/stable/indexing.html#indexing-view-versus-copy\n",
      "  \n",
      "C:\\Users\\mauri\\Anaconda3\\lib\\site-packages\\ipykernel_launcher.py:7: SettingWithCopyWarning: \n",
      "A value is trying to be set on a copy of a slice from a DataFrame.\n",
      "Try using .loc[row_indexer,col_indexer] = value instead\n",
      "\n",
      "See the caveats in the documentation: http://pandas.pydata.org/pandas-docs/stable/indexing.html#indexing-view-versus-copy\n",
      "  import sys\n",
      "C:\\Users\\mauri\\Anaconda3\\lib\\site-packages\\ipykernel_launcher.py:8: SettingWithCopyWarning: \n",
      "A value is trying to be set on a copy of a slice from a DataFrame.\n",
      "Try using .loc[row_indexer,col_indexer] = value instead\n",
      "\n",
      "See the caveats in the documentation: http://pandas.pydata.org/pandas-docs/stable/indexing.html#indexing-view-versus-copy\n",
      "  \n",
      "C:\\Users\\mauri\\Anaconda3\\lib\\site-packages\\ipykernel_launcher.py:9: SettingWithCopyWarning: \n",
      "A value is trying to be set on a copy of a slice from a DataFrame.\n",
      "Try using .loc[row_indexer,col_indexer] = value instead\n",
      "\n",
      "See the caveats in the documentation: http://pandas.pydata.org/pandas-docs/stable/indexing.html#indexing-view-versus-copy\n",
      "  if __name__ == '__main__':\n"
     ]
    }
   ],
   "source": [
    "# 2 Let’s see how earnings varies with age. Take the log of earnings before\n",
    "# running these regressions. Now please use both men and women\n",
    "# who are employed and 35 years older or more.\n",
    "\n",
    "df3 = df.loc[(df.empstat == 'employed') & (df.age >= 35)]\n",
    "df3['lnwage'] = np.log(df3.incwage)\n",
    "df3['age2'] = np.power((df3.age), 2)\n",
    "df3['age3'] = np.power((df3.age), 3)\n",
    "df3['MFX'] = np.array(0.7628+2*-0.0161*df3['age']+3 * 0.0001*df3['age2'])"
   ]
  },
  {
   "cell_type": "code",
   "execution_count": 10,
   "metadata": {},
   "outputs": [
    {
     "name": "stdout",
     "output_type": "stream",
     "text": [
      "                            OLS Regression Results                            \n",
      "==============================================================================\n",
      "Dep. Variable:                      y   R-squared:                       0.010\n",
      "Model:                            OLS   Adj. R-squared:                  0.010\n",
      "Method:                 Least Squares   F-statistic:                     47.41\n",
      "Date:                Wed, 07 Oct 2020   Prob (F-statistic):           6.51e-12\n",
      "Time:                        10:11:28   Log-Likelihood:                -5783.8\n",
      "No. Observations:                4700   AIC:                         1.157e+04\n",
      "Df Residuals:                    4698   BIC:                         1.158e+04\n",
      "Df Model:                           1                                         \n",
      "Covariance Type:            nonrobust                                         \n",
      "==============================================================================\n",
      "                 coef    std err          t      P>|t|      [0.025      0.975]\n",
      "------------------------------------------------------------------------------\n",
      "const         11.6920      0.090    130.578      0.000      11.517      11.868\n",
      "x1             0.0137      0.002      6.886      0.000       0.010       0.018\n",
      "==============================================================================\n",
      "Omnibus:                     1445.159   Durbin-Watson:                   1.941\n",
      "Prob(Omnibus):                  0.000   Jarque-Bera (JB):             5484.630\n",
      "Skew:                          -1.492   Prob(JB):                         0.00\n",
      "Kurtosis:                       7.370   Cond. No.                         334.\n",
      "==============================================================================\n",
      "\n",
      "Warnings:\n",
      "[1] Standard Errors assume that the covariance matrix of the errors is correctly specified.\n"
     ]
    }
   ],
   "source": [
    "# a) Run a linear regression of earnings on age.\n",
    "x = df3[['age']]\n",
    "y = df3[['lnwage']]\n",
    "\n",
    "# Reproduce scikit-learn results with linear algebra\n",
    "N = len(x)\n",
    "p = len(x.columns) + 1  # plus one because LinearRegression adds an intercept term\n",
    "\n",
    "\n",
    "X_with_intercept1 = np.empty(shape=(N, p), dtype=np.float)\n",
    "X_with_intercept1[:, 0] = 1\n",
    "X_with_intercept1[:, 1:p] = x.values\n",
    "\n",
    "ols = sm.OLS(y.values, X_with_intercept1)\n",
    "ols_result_ln = ols.fit()\n",
    "y_hat1 = ols_result_ln.predict(X_with_intercept1)\n",
    "print(ols_result_ln.summary())"
   ]
  },
  {
   "cell_type": "code",
   "execution_count": 11,
   "metadata": {},
   "outputs": [
    {
     "name": "stdout",
     "output_type": "stream",
     "text": [
      "                            OLS Regression Results                            \n",
      "==============================================================================\n",
      "Dep. Variable:                      y   R-squared:                       0.010\n",
      "Model:                            OLS   Adj. R-squared:                  0.010\n",
      "Method:                 Least Squares   F-statistic:                     47.41\n",
      "Date:                Wed, 07 Oct 2020   Prob (F-statistic):           6.51e-12\n",
      "Time:                        10:11:32   Log-Likelihood:                -5783.8\n",
      "No. Observations:                4700   AIC:                         1.157e+04\n",
      "Df Residuals:                    4698   BIC:                         1.158e+04\n",
      "Df Model:                           1                                         \n",
      "Covariance Type:            nonrobust                                         \n",
      "==============================================================================\n",
      "                 coef    std err          t      P>|t|      [0.025      0.975]\n",
      "------------------------------------------------------------------------------\n",
      "const         11.6920      0.090    130.578      0.000      11.517      11.868\n",
      "x1             0.0137      0.002      6.886      0.000       0.010       0.018\n",
      "==============================================================================\n",
      "Omnibus:                     1445.159   Durbin-Watson:                   1.941\n",
      "Prob(Omnibus):                  0.000   Jarque-Bera (JB):             5484.630\n",
      "Skew:                          -1.492   Prob(JB):                         0.00\n",
      "Kurtosis:                       7.370   Cond. No.                         334.\n",
      "==============================================================================\n",
      "\n",
      "Warnings:\n",
      "[1] Standard Errors assume that the covariance matrix of the errors is correctly specified.\n"
     ]
    }
   ],
   "source": [
    "#  (b) Run a quadratic regression of earnings on age. (4 points)\n",
    "x = df3[['age', 'age2']]\n",
    "y = df3[['lnwage']]\n",
    "\n",
    "# Reproduce scikit-learn results with linear algebra\n",
    "N = len(x)\n",
    "p = len(x.columns) + 1  # plus one because LinearRegression adds an intercept term\n",
    "\n",
    "\n",
    "X_with_intercept2 = np.empty(shape=(N, p), dtype=np.float)\n",
    "X_with_intercept2[:, 0] = 1\n",
    "X_with_intercept2[:, 1:p] = x.values\n",
    "\n",
    "ols = sm.OLS(y.values, X_with_intercept2)\n",
    "ols_result_ln2 = ols.fit()\n",
    "y_hat2 = ols_result_ln2.predict(X_with_intercept2)\n",
    "print(ols_result_ln.summary())"
   ]
  },
  {
   "cell_type": "code",
   "execution_count": 12,
   "metadata": {},
   "outputs": [
    {
     "name": "stdout",
     "output_type": "stream",
     "text": [
      "                            OLS Regression Results                            \n",
      "==============================================================================\n",
      "Dep. Variable:                      y   R-squared:                       0.011\n",
      "Model:                            OLS   Adj. R-squared:                  0.011\n",
      "Method:                 Least Squares   F-statistic:                     18.02\n",
      "Date:                Wed, 07 Oct 2020   Prob (F-statistic):           1.27e-11\n",
      "Time:                        10:11:35   Log-Likelihood:                -5780.5\n",
      "No. Observations:                4700   AIC:                         1.157e+04\n",
      "Df Residuals:                    4696   BIC:                         1.159e+04\n",
      "Df Model:                           3                                         \n",
      "Covariance Type:            nonrobust                                         \n",
      "==============================================================================\n",
      "                 coef    std err          t      P>|t|      [0.025      0.975]\n",
      "------------------------------------------------------------------------------\n",
      "const          0.2427      6.158      0.039      0.969     -11.830      12.315\n",
      "x1             0.7628      0.419      1.821      0.069      -0.058       1.584\n",
      "x2            -0.0161      0.009     -1.713      0.087      -0.035       0.002\n",
      "x3             0.0001   6.98e-05      1.637      0.102   -2.26e-05       0.000\n",
      "==============================================================================\n",
      "Omnibus:                     1454.891   Durbin-Watson:                   1.942\n",
      "Prob(Omnibus):                  0.000   Jarque-Bera (JB):             5595.296\n",
      "Skew:                          -1.498   Prob(JB):                         0.00\n",
      "Kurtosis:                       7.427   Cond. No.                     5.16e+07\n",
      "==============================================================================\n",
      "\n",
      "Warnings:\n",
      "[1] Standard Errors assume that the covariance matrix of the errors is correctly specified.\n",
      "[2] The condition number is large, 5.16e+07. This might indicate that there are\n",
      "strong multicollinearity or other numerical problems.\n"
     ]
    }
   ],
   "source": [
    "#  (c) Run a cubic regression of earnings on age.\n",
    "x = df3[['age', 'age2', 'age3']]\n",
    "y = df3[['lnwage']]\n",
    "\n",
    "# Reproduce scikit-learn results with linear algebra\n",
    "N = len(x)\n",
    "p = len(x.columns) + 1  # plus one because LinearRegression adds an intercept term\n",
    "\n",
    "\n",
    "X_with_intercept3 = np.empty(shape=(N, p), dtype=np.float)\n",
    "X_with_intercept3[:, 0] = 1\n",
    "X_with_intercept3[:, 1:p] = x.values\n",
    "\n",
    "ols = sm.OLS(y.values, X_with_intercept3)\n",
    "ols_result_ln3 = ols.fit()\n",
    "y_hat3 = ols_result_ln3.predict(X_with_intercept3)\n",
    "print(ols_result_ln3.summary())"
   ]
  },
  {
   "cell_type": "code",
   "execution_count": 13,
   "metadata": {},
   "outputs": [
    {
     "data": {
      "image/png": "[encoded data removed]",
      "text/plain": [
       "<Figure size 432x288 with 1 Axes>"
      ]
     },
     "metadata": {
      "needs_background": "light"
     },
     "output_type": "display_data"
    }
   ],
   "source": [
    "# (d) Present the results from your three regressions in one graph. (4\n",
    "# points)\n",
    "df4 = pd.DataFrame(list(zip(df3['age'], y_hat1, y_hat2, y_hat3, df3['lnwage'])),\n",
    "                   columns=['age', 'yhat1', 'yhat2', 'yhat3', 'lnwage'])\n",
    "\n",
    "df5 = df4.groupby(['age'], as_index=False).mean()\n",
    "\n",
    "plt.scatter(df5['age'], df5['lnwage'],  color='black')\n",
    "plt.plot(df5['age'], df5['yhat1'], color='blue', label='Linear')\n",
    "plt.plot(df5['age'], df5['yhat2'], color='green', label='Quadratic')\n",
    "plt.plot(df5['age'], df5['yhat3'], color='red', label='Cubic')\n",
    "plt.legend()\n",
    "plt.ylabel('Mean Log Wage')\n",
    "plt.xlabel('Age')\n",
    "plt.show()"
   ]
  },
  {
   "cell_type": "code",
   "execution_count": 14,
   "metadata": {},
   "outputs": [],
   "source": [
    "# (e) Make an argument about which specification is best. (6 points)\n",
    "# In this case just by looking at the graph, the cubic regression seems\n",
    "# to fit the data better than the others. After analyzing the $r^2$\n",
    "# coefficients of each regression, it can be noticed that the cubic regression\n",
    "# does have the greatest value, which indicates a better positive fit."
   ]
  },
  {
   "cell_type": "code",
   "execution_count": 15,
   "metadata": {},
   "outputs": [
    {
     "name": "stdout",
     "output_type": "stream",
     "text": [
      "count    4700.000000\n",
      "mean       -0.065647\n",
      "std         0.033673\n",
      "min        -0.101200\n",
      "25%        -0.097200\n",
      "50%        -0.078700\n",
      "75%        -0.036700\n",
      "max         0.003300\n",
      "Name: MFX, dtype: float64\n",
      "-0.0656471914893616\n"
     ]
    }
   ],
   "source": [
    "# (f) Using the cubic, let’s explore marginal effects.\n",
    "agebar = np.mean(df3['age'])\n",
    "age2bar = np.mean(df3['age2'])\n",
    "# i. Report the average marginal effect of age on earnings. Do\n",
    "# not use the MFX command! (3 points)\n",
    "\n",
    "print(df3['MFX'].describe())\n",
    "\n",
    "# ii Also report the average of the marginal effects. Do not use\n",
    "# the MFX command! (3 points)\n",
    "\n",
    "MFX_bar = np.array(0.7628+2*-0.0161*agebar+3*0.0001*age2bar)\n",
    "print(MFX_bar)"
   ]
  },
  {
   "cell_type": "code",
   "execution_count": 20,
   "metadata": {},
   "outputs": [
    {
     "name": "stdout",
     "output_type": "stream",
     "text": [
      "[white, other asian or pacific islander, chinese, black/african american, two major races, other race, nec, american indian or alaska native, three or more major races, japanese]\n",
      "Categories (9, object): [white < black/african american < american indian or alaska native < chinese ... other asian or pacific islander < other race, nec < two major races < three or more major races]\n",
      "[not hispanic, other, mexican, puerto rican, cuban]\n",
      "Categories (5, object): [not hispanic < mexican < puerto rican < cuban < other]\n"
     ]
    }
   ],
   "source": [
    "# 3 We are now going to explore some racial wage gaps. (15 points)\n",
    "print(df.race.unique())\n",
    "print(df.hispan.unique())"
   ]
  },
  {
   "cell_type": "code",
   "execution_count": 32,
   "metadata": {},
   "outputs": [
    {
     "name": "stdout",
     "output_type": "stream",
     "text": [
      "                                   count           mean            std  \\\n",
      "race                                                                     \n",
      "white                             4617.0  234900.498159  175028.365399   \n",
      "black/african american             287.0  204353.310105  166312.604537   \n",
      "american indian or alaska native    14.0  268928.571429  189859.650303   \n",
      "chinese                            363.0  216068.044077  172744.216982   \n",
      "japanese                            20.0  174000.000000  140553.791913   \n",
      "other asian or pacific islander   1156.0  228271.193772  169672.582358   \n",
      "other race, nec                     43.0  157737.209302  177780.517470   \n",
      "two major races                    196.0  206482.653061  175188.686864   \n",
      "three or more major races           22.0  215590.909091  161975.794515   \n",
      "\n",
      "                                      min      25%       50%       75%  \\\n",
      "race                                                                     \n",
      "white                               300.0  70000.0  197000.0  413000.0   \n",
      "black/african american             3000.0  61000.0  175000.0  277500.0   \n",
      "american indian or alaska native  25000.0  72000.0  274500.0  421750.0   \n",
      "chinese                            2500.0  63000.0  175000.0  300000.0   \n",
      "japanese                          10000.0  65000.0  135000.0  227500.0   \n",
      "other asian or pacific islander     700.0  71000.0  200000.0  350000.0   \n",
      "other race, nec                    5000.0  50000.0   68000.0  210000.0   \n",
      "two major races                    1200.0  60000.0  150000.0  346250.0   \n",
      "three or more major races         18000.0  70500.0  196500.0  337500.0   \n",
      "\n",
      "                                       max  \n",
      "race                                        \n",
      "white                             718000.0  \n",
      "black/african american            660000.0  \n",
      "american indian or alaska native  565000.0  \n",
      "chinese                           660000.0  \n",
      "japanese                          565000.0  \n",
      "other asian or pacific islander   660000.0  \n",
      "other race, nec                   660000.0  \n",
      "two major races                   660000.0  \n",
      "three or more major races         498000.0  \n"
     ]
    }
   ],
   "source": [
    "df6 = df.groupby(['race'])['incwage'].describe()\n",
    "print(df6)"
   ]
  },
  {
   "cell_type": "code",
   "execution_count": null,
   "metadata": {},
   "outputs": [],
   "source": []
  }
 ],
 "metadata": {
  "kernelspec": {
   "display_name": "Python 3",
   "language": "python",
   "name": "python3"
  },
  "language_info": {
   "codemirror_mode": {
    "name": "ipython",
    "version": 3
   },
   "file_extension": ".py",
   "mimetype": "text/x-python",
   "name": "python",
   "nbconvert_exporter": "python",
   "pygments_lexer": "ipython3",
   "version": "3.7.0"
  }
 },
 "nbformat": 4,
 "nbformat_minor": 2
}
