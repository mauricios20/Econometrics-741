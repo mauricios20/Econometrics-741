{
 "cells": [
  {
   "cell_type": "code",
   "execution_count": 177,
   "metadata": {},
   "outputs": [
    {
     "data": {
      "text/plain": [
       "['.ipynb_checkpoints',\n",
       " 'Concord_Script_1stPart.ipynb',\n",
       " 'Concord_Script_RFP-New Version 2.0.ipynb',\n",
       " 'FPC- New Data with New Forecast.xlsx',\n",
       " 'FPC.ipynb',\n",
       " 'TEST_MAPPING - Copy.xlsx',\n",
       " 'TEST_MAPPING.xls',\n",
       " 'TEST_MAPPING.xlsx']"
      ]
     },
     "execution_count": 177,
     "metadata": {},
     "output_type": "execute_result"
    }
   ],
   "source": [
    "import os\n",
    "import xlrd\n",
    "import xlwt\n",
    "from xlutils.copy import copy\n",
    "import pandas as pd\n",
    "import numpy as np\n",
    "from openpyxl import load_workbook\n",
    "\n",
    "os.chdir(\"/Users/mauri/Documents/Python Scripts/RFP Import Scripts\")\n",
    "os.listdir('.')"
   ]
  },
  {
   "cell_type": "code",
   "execution_count": 178,
   "metadata": {},
   "outputs": [],
   "source": [
    "file = pd.ExcelFile('FPC- New Data with New Forecast.xlsx')\n",
    "sheet_names = file.sheet_names\n",
    "#print(sheet_names)   -- Take out the hashtag to see the model names and scenarios."
   ]
  },
  {
   "cell_type": "code",
   "execution_count": 179,
   "metadata": {},
   "outputs": [],
   "source": [
    "def extract(info):\n",
    "    \"\"\"Function to extract desire information\"\"\"\n",
    "    res = []\n",
    "    for sheet in sheet_names:\n",
    "        data = pd.read_excel(file, sheet)\n",
    "        for index, row in data.iterrows():\n",
    "            for count in range(0, row.size):\n",
    "                if row[count] == info:\n",
    "                    res.append([sheet,row[count],row[count+1]])\n",
    "    return res\n",
    "\n",
    "#Selection of Equipment and Scenario \n",
    "def select(dtf,Equipment,Scenario):\n",
    "    \"\"\"F(x) to query data from specific machine and scenario\"\"\"\n",
    "    res = []\n",
    "    for index, row in dtf.iterrows():\n",
    "            for count in range(0, row.size):\n",
    "                if row[count] == Equipment+Scenario:\n",
    "                    res.append([row[count+2]])\n",
    "    return np.asarray(res)\n",
    "\n",
    "def importxls(dtf):\n",
    "    \"\"\"F(x) creates dtf to be imported to xls\"\"\"\n",
    "    new = dtf[0].str.split(\"(\", n = 1, expand = True).replace('\\)','',regex=True)\n",
    "    # making seperate first name column from new data frame \n",
    "    dtf[\"Model\"]= new[0] \n",
    "\n",
    "    # making seperate last name column from new data frame \n",
    "    dtf[\"Scenario\"]= new[1] \n",
    "\n",
    "    # Dropping old Name columns \n",
    "    dtf.drop(columns =[0], inplace = True) \n",
    "    columns = dtf.columns.tolist()\n",
    "    columns = columns[-2:] + columns[:-2]\n",
    "    dtf = dtf[columns]\n",
    "    dtf.rename(columns={1: \"Line Item\", 2: \"Amount\"}, inplace=True)\n",
    "    return dtf\n",
    "\n",
    "#Extract Total Cycle Time \n",
    "res_TCT = pd.DataFrame(extract('Total Cycle Time:'))\n",
    "\n",
    "#Extract Total Fuel Usage \n",
    "res_TFU = pd.DataFrame(extract('Total Fuel Usage:'))\n",
    "\n",
    "#Extract Payload\n",
    "res_PLD = pd.DataFrame(extract('Payload:')).groupby([0,1]).mean().reset_index()"
   ]
  },
  {
   "cell_type": "code",
   "execution_count": 180,
   "metadata": {},
   "outputs": [
    {
     "name": "stdout",
     "output_type": "stream",
     "text": [
      "[[52.39]]\n",
      "[[284.41]]\n",
      "[[240.39]]\n"
     ]
    }
   ],
   "source": [
    "# # Select Model & Scenario. Just Run the code afterwards without modifying anything. \n",
    "# Model = '793F 2270hp SR'\n",
    "# Scenario = '(Haul 1)'\n",
    "\n",
    "# CycleTime = select(res_TCT,Model,Scenario)\n",
    "# print(CycleTime)\n",
    "\n",
    "# FuelUsage = select(res_TFU,Model,Scenario )\n",
    "# print(FuelUsage)\n",
    "\n",
    "# Payload = select(res_PLD,Model,Scenario )\n",
    "# print(Payload)\n",
    "\n",
    "# rb = xlrd.open_workbook('TEST_MAPPING - Copy.xlsx')  \n",
    "# wb = copy(rb)\n",
    "# sheet = wb.get_sheet('data_entry')\n",
    "# sheet.write(344, 2, 'BITCH')\n",
    "# wb.save('TEST_MAPPING - Copy.xlsx')"
   ]
  },
  {
   "cell_type": "code",
   "execution_count": 181,
   "metadata": {},
   "outputs": [],
   "source": [
    "CycleTimes = importxls(res_TCT)\n",
    "FuelUsage = importxls(res_TFU)\n",
    "Payload = importxls(res_PLD)\n",
    "FPC = pd.concat([CycleTimes,FuelUsage,Payload])"
   ]
  },
  {
   "cell_type": "code",
   "execution_count": 174,
   "metadata": {},
   "outputs": [],
   "source": [
    "book = load_workbook('TEST_MAPPING.xlsx')\n",
    "writer = pd.ExcelWriter('TEST_MAPPING.xlsx', engine = 'openpyxl')\n",
    "writer.book = book\n",
    "\n",
    "FPC.to_excel(writer, sheet_name = 'FCP',index=False, index_label= None)\n",
    "\n",
    "writer.save()\n",
    "writer.close()"
   ]
  }
 ],
 "metadata": {
  "kernelspec": {
   "display_name": "Python 3",
   "language": "python",
   "name": "python3"
  },
  "language_info": {
   "codemirror_mode": {
    "name": "ipython",
    "version": 3
   },
   "file_extension": ".py",
   "mimetype": "text/x-python",
   "name": "python",
   "nbconvert_exporter": "python",
   "pygments_lexer": "ipython3",
   "version": "3.7.0"
  }
 },
 "nbformat": 4,
 "nbformat_minor": 2
}
